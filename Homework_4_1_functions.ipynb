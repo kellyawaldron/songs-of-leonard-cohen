{
 "cells": [
  {
   "cell_type": "markdown",
   "metadata": {},
   "source": [
    "## homework 4.1: investigating lists and dictionaries using functions\n",
    "\n",
    "In this assignment I will ask you to pick five relatively short texts (poems, paragraphs, short essays, song lyrics, whatever interests you). The main thing is to make sure that each text is around 10 - 20 lines or sentences long. Below, I have selected five poems by Wallace Stevens. In each cell I have made a variable that contains each poem, and then I pass that poem through a function called `text_to_dict` that makes a dictionary for each poem. The dictionary contains the title of the poem, the full text as one string, and a list that contains each line of the poem. The function will also make lists of sentences instead of lines if you want to investigate a prose text (sentence by sentence) instead of a poem (line by line).\n",
    "\n",
    "There are two parts of this assignment. \n",
    "\n",
    "**Part 1**, which should be easy, is to replace the poems with texts of your own choice--and choose to split them by lines or sentences. \n",
    "\n",
    "**Part 2** is to write functions that and investigate your texts. If you want to focus on the functions first, you can go straight to Part 2 and use the poems I have chosen. You can then go back and enter your own texts--your functions should work no matter what text you've chosen.\n"
   ]
  },
  {
   "cell_type": "code",
   "execution_count": 483,
   "metadata": {},
   "outputs": [],
   "source": [
    "#Run this cell toImport regular expressions\n",
    "#And to initialize the all texts list that will contain all of your dictionaries of text\n",
    "import re\n",
    "all_texts = []"
   ]
  },
  {
   "cell_type": "markdown",
   "metadata": {},
   "source": [
    "** understanding the text_to_dict function**\n",
    "\n",
    "You don't have to completely understand this function to use it, but you do need to understand its parameters. It takes three parameters:\n",
    "* `title` is a string you need to write inside function's parameters\n",
    "* `text` is the variable that holds the entire text\n",
    "* `poem` True/False parameter --if it is true it will split your text by line (`\\n`) \n",
    " \tIf it is false it will split your text by sentence ('[.?!])\n",
    "\n",
    "If you look at the function you will see that it builds a dictionary with the following fields:\n",
    "* `title` is the title of the text\n",
    "* `text_as_string` is the full text as a string\n",
    "* `lines` is a list of lines or sentences\n",
    "\n",
    "It returns a dictionary with those fields."
   ]
  },
  {
   "cell_type": "code",
   "execution_count": 484,
   "metadata": {},
   "outputs": [],
   "source": [
    "def text_to_dict(title,text,poem):\n",
    "    dict_of_this_text = {}\n",
    "    dict_of_this_text['title'] = title\n",
    "    dict_of_this_text['text_as_string'] = text\n",
    "    if poem:\n",
    "        text_to_list = text.strip().split('\\n')\n",
    "    else:\n",
    "        text_to_list = re.split(r\"[.?!]\",text)\n",
    "    dict_of_this_text['lines'] = text_to_list\n",
    "    return dict_of_this_text\n"
   ]
  },
  {
   "cell_type": "code",
   "execution_count": 468,
   "metadata": {},
   "outputs": [],
   "source": [
    "#please note: the regular expression I am using to split by sentences\n",
    "#is highly flawed, it is borderline impossible to write a regular expression \n",
    "#that splits 100% perfectly by sentence, but feel free to use this."
   ]
  },
  {
   "cell_type": "markdown",
   "metadata": {},
   "source": [
    "## Part One\n",
    "\n",
    "The next five cells are exactly the same. They define five different texts, and then they pass each text through the `text_to_dict` function. And then they add the resulting dictionary to the all_texts list. \n",
    "\n",
    "In the five cells below enter your five selected texts.\n",
    "\n",
    "**You should do no coding at any point** until the very last cell before part two."
   ]
  },
  {
   "cell_type": "code",
   "execution_count": 485,
   "metadata": {},
   "outputs": [],
   "source": [
    "#To change the text, just put a new text between the quotation mark\n",
    "text0 = '''Suzanne takes you down to her place near the river\n",
    "You can hear the boats go by, you can spend the night beside her\n",
    "And you know that she's half-crazy but that's why you want to be there\n",
    "And she feeds you tea and oranges that come all the way from China\n",
    "And just when you mean to tell her that you have no love to give her\n",
    "Then she gets you on her wavelength\n",
    "And she lets the river answer that you've always been her lover\n",
    "And you want to travel with her, and you want to travel blind\n",
    "And then you know that she will trust you\n",
    "For you've touched her perfect body with your mind.\n",
    "And Jesus was a sailor when he walked upon the water\n",
    "And he spent a long time watching from his lonely wooden tower\n",
    "And when he knew for certain only drowning men could see him\n",
    "He said all men will be sailors then until the sea shall free them\n",
    "But he himself was broken, long before the sky would open\n",
    "Forsaken, almost human, he sank beneath your wisdom like a stone\n",
    "And you want to travel with him, and you want to travel blind\n",
    "And then you think maybe you'll trust him\n",
    "For he's touched your perfect body with his mind\n",
    "Now, Suzanne takes your hand and she leads you to the river\n",
    "She's wearing rags and feathers from Salvation Army counters\n",
    "And the sun pours down like honey on our lady of the harbor\n",
    "And she shows you where to look among the garbage and the flowers\n",
    "There are heroes in the seaweed, there are children in the morning\n",
    "They are leaning out for love and they will lean that way forever\n",
    "While Suzanne holds the mirror\n",
    "And you want to travel with her, and you want to travel blind\n",
    "And then you know that you can trust her\n",
    "For she's touched your perfect body with her mind.'''\n",
    "#Remember: you need to type the title into the first parameter\n",
    "#place the variable containing the text into the second paramater\n",
    "#If you want to split by line choose True for the third parameter\n",
    "#If you want to split by sentence, choose False\n",
    "transform_it = text_to_dict(\"Suzanne\",text0,True)\n",
    "all_texts.append(transform_it)"
   ]
  },
  {
   "cell_type": "code",
   "execution_count": 486,
   "metadata": {},
   "outputs": [
    {
     "data": {
      "text/plain": [
       "[{'title': 'Suzanne',\n",
       "  'text_as_string': \"Suzanne takes you down to her place near the river\\nYou can hear the boats go by, you can spend the night beside her\\nAnd you know that she's half-crazy but that's why you want to be there\\nAnd she feeds you tea and oranges that come all the way from China\\nAnd just when you mean to tell her that you have no love to give her\\nThen she gets you on her wavelength\\nAnd she lets the river answer that you've always been her lover\\nAnd you want to travel with her, and you want to travel blind\\nAnd then you know that she will trust you\\nFor you've touched her perfect body with your mind.\\nAnd Jesus was a sailor when he walked upon the water\\nAnd he spent a long time watching from his lonely wooden tower\\nAnd when he knew for certain only drowning men could see him\\nHe said all men will be sailors then until the sea shall free them\\nBut he himself was broken, long before the sky would open\\nForsaken, almost human, he sank beneath your wisdom like a stone\\nAnd you want to travel with him, and you want to travel blind\\nAnd then you think maybe you'll trust him\\nFor he's touched your perfect body with his mind\\nNow, Suzanne takes your hand and she leads you to the river\\nShe's wearing rags and feathers from Salvation Army counters\\nAnd the sun pours down like honey on our lady of the harbor\\nAnd she shows you where to look among the garbage and the flowers\\nThere are heroes in the seaweed, there are children in the morning\\nThey are leaning out for love and they will lean that way forever\\nWhile Suzanne holds the mirror\\nAnd you want to travel with her, and you want to travel blind\\nAnd then you know that you can trust her\\nFor she's touched your perfect body with her mind.\",\n",
       "  'lines': ['Suzanne takes you down to her place near the river',\n",
       "   'You can hear the boats go by, you can spend the night beside her',\n",
       "   \"And you know that she's half-crazy but that's why you want to be there\",\n",
       "   'And she feeds you tea and oranges that come all the way from China',\n",
       "   'And just when you mean to tell her that you have no love to give her',\n",
       "   'Then she gets you on her wavelength',\n",
       "   \"And she lets the river answer that you've always been her lover\",\n",
       "   'And you want to travel with her, and you want to travel blind',\n",
       "   'And then you know that she will trust you',\n",
       "   \"For you've touched her perfect body with your mind.\",\n",
       "   'And Jesus was a sailor when he walked upon the water',\n",
       "   'And he spent a long time watching from his lonely wooden tower',\n",
       "   'And when he knew for certain only drowning men could see him',\n",
       "   'He said all men will be sailors then until the sea shall free them',\n",
       "   'But he himself was broken, long before the sky would open',\n",
       "   'Forsaken, almost human, he sank beneath your wisdom like a stone',\n",
       "   'And you want to travel with him, and you want to travel blind',\n",
       "   \"And then you think maybe you'll trust him\",\n",
       "   \"For he's touched your perfect body with his mind\",\n",
       "   'Now, Suzanne takes your hand and she leads you to the river',\n",
       "   \"She's wearing rags and feathers from Salvation Army counters\",\n",
       "   'And the sun pours down like honey on our lady of the harbor',\n",
       "   'And she shows you where to look among the garbage and the flowers',\n",
       "   'There are heroes in the seaweed, there are children in the morning',\n",
       "   'They are leaning out for love and they will lean that way forever',\n",
       "   'While Suzanne holds the mirror',\n",
       "   'And you want to travel with her, and you want to travel blind',\n",
       "   'And then you know that you can trust her',\n",
       "   \"For she's touched your perfect body with her mind.\"]}]"
      ]
     },
     "execution_count": 486,
     "metadata": {},
     "output_type": "execute_result"
    }
   ],
   "source": [
    "all_texts"
   ]
  },
  {
   "cell_type": "code",
   "execution_count": 487,
   "metadata": {},
   "outputs": [],
   "source": [
    "text1 = '''Come over to the window, my little darling,\n",
    "I'd like to try to read your palm.\n",
    "I used to think I was some kind of Gypsy boy\n",
    "before I let you take me home.\n",
    "Now so long, Marianne, it's time that we began\n",
    "to laugh and cry and cry and laugh about it all again.\n",
    "Well you know that I love to live with you,\n",
    "but you make me forget so very much.\n",
    "I forget to pray for the angels\n",
    "and then the angels forget to pray for us.\n",
    "Now so long, Marianne, it's time that we began ...\n",
    "We met when we were almost young\n",
    "deep in the green lilac park.\n",
    "You held on to me like I was a crucifix,\n",
    "as we went kneeling through the dark.\n",
    "Oh so long, Marianne, it's time that we began ...\n",
    "Your letters they all say that you're beside me now.\n",
    "Then why do I feel alone?\n",
    "I'm standing on a ledge and your fine spider web\n",
    "is fastening my ankle to a stone.\n",
    "Now so long, Marianne, it's time that we began ...\n",
    "For now I need your hidden love.\n",
    "I'm cold as a new razor blade.\n",
    "You left when I told you I was curious,\n",
    "I never said that I was brave.\n",
    "Oh so long, Marianne, it's time that we began ...\n",
    "Oh, you are really such a pretty one.\n",
    "I see you've gone and changed your name again.\n",
    "And just when I climbed this whole mountainside,\n",
    "to wash my eyelids in the rain!\n",
    "Oh so long, Marianne, it's time that we began ...'''\n",
    "transform_it = text_to_dict(\"So Long Marianne\",text1,True)\n",
    "all_texts.append(transform_it)"
   ]
  },
  {
   "cell_type": "code",
   "execution_count": 488,
   "metadata": {},
   "outputs": [],
   "source": [
    "text2 = '''I loved you in the morning, our kisses deep and warm,\n",
    "your hair upon the pillow like a sleepy golden storm,\n",
    "yes, many loved before us, I know that we are not new,\n",
    "in city and in forest they smiled like me and you,\n",
    "but now it's come to distances and both of us must try,\n",
    "your eyes are soft with sorrow,\n",
    "Hey, that's no way to say goodbye.\n",
    "I'm not looking for another as I wander in my time,\n",
    "walk me to the corner, our steps will always rhyme\n",
    "you know my love goes with you as your love stays with me,\n",
    "it's just the way it changes, like the shoreline and the sea,\n",
    "but let's not talk of love or chains and things we can't untie,\n",
    "your eyes are soft with sorrow,\n",
    "Hey, that's no way to say goodbye.\n",
    "I loved you in the morning, our kisses deep and warm,\n",
    "your hair upon the pillow like a sleepy golden storm,\n",
    "yes many loved before us, I know that we are not new,\n",
    "in city and in forest they smiled like me and you,\n",
    "but let's not talk of love or chains and things we can't untie,\n",
    "your eyes are soft with sorrow,\n",
    "Hey, that's no way to say goodbye.'''\n",
    "transform_it = text_to_dict(\"Hey, That's No Way To Say Goodbye\",text2,True)\n",
    "all_texts.append(transform_it)"
   ]
  },
  {
   "cell_type": "code",
   "execution_count": 493,
   "metadata": {},
   "outputs": [
    {
     "data": {
      "text/plain": [
       "\"but now it's come to distances and both of us must try,\""
      ]
     },
     "execution_count": 493,
     "metadata": {},
     "output_type": "execute_result"
    }
   ],
   "source": [
    "#this will display the 5 line in the 3rd text.\n",
    "all_texts[2]['lines'][4]"
   ]
  },
  {
   "cell_type": "code",
   "execution_count": 490,
   "metadata": {},
   "outputs": [],
   "source": [
    "text3 = '''I lit a thin green candle, to make you jealous of me.\n",
    "But the room just filled up with mosquitos,\n",
    "they heard that my body was free.\n",
    "Then I took the dust of a long sleepless night\n",
    "and I put it in your little shoe.\n",
    "And then I confess that I tortured the dress\n",
    "that you wore for the world to look through.\n",
    "I showed my heart to the doctor: he said I just have to quit.\n",
    "Then he wrote himself a prescription,\n",
    "and your name was mentioned in it!\n",
    "Then he locked himself in a library shelf\n",
    "with the details of our honeymoon,\n",
    "and I hear from the nurse that he's gotten much worse\n",
    "and his practice is all in a ruin.\n",
    "I heard of a saint who had loved you,\n",
    "so I studied all night in his school.\n",
    "He taught that the duty of lovers\n",
    "is to tarnish the golden rule.\n",
    "And just when I was sure that his teachings were pure\n",
    "he drowned himself in the pool.\n",
    "His body is gone but back here on the lawn\n",
    "his spirit continues to drool.\n",
    "An Eskimo showed me a movie\n",
    "he'd recently taken of you:\n",
    "the poor man could hardly stop shivering,\n",
    "his lips and his fingers were blue.\n",
    "I suppose that he froze when the wind took your clothes\n",
    "and I guess he just never got warm.\n",
    "But you stand there so nice, in your blizzard of ice,\n",
    "oh please let me come into the storm.'''\n",
    "transform_it = text_to_dict(\"One Of Us Cannot Be Wrong\",text3,True)\n",
    "all_texts.append(transform_it)"
   ]
  },
  {
   "cell_type": "code",
   "execution_count": 491,
   "metadata": {},
   "outputs": [],
   "source": [
    "text4 = '''I believe that you heard your master sing\n",
    "when I was sick in bed.\n",
    "I suppose that he told you everything\n",
    "that I keep locked away in my head.\n",
    "Your master took you travelling,\n",
    "well at least that's what you said.\n",
    "And now do you come back to bring\n",
    "your prisoner wine and bread?\n",
    "You met him at some temple, where\n",
    "they take your clothes at the door.\n",
    "He was just a numberless man in a chair\n",
    "who'd just come back from the war.\n",
    "And you wrap up his tired face in your hair\n",
    "and he hands you the apple core.\n",
    "Then he touches your lips now so suddenly bare\n",
    "of all the kisses we put on some time before.\n",
    "And he gave you a German Shepherd to walk\n",
    "with a collar of leather and nails,\n",
    "and he never once made you explain or talk\n",
    "about all of the little details,\n",
    "such as who had a word and who had a rock,\n",
    "and who had you through the mails.\n",
    "Now your love is a secret all over the block,\n",
    "and it never stops not even when your master fails.\n",
    "And he took you up in his aeroplane,\n",
    "which he flew without any hands,\n",
    "and you cruised above the ribbons of rain\n",
    "that drove the crowd from the stands.\n",
    "Then he killed the lights in a lonely Lane\n",
    "and, an ape with angel glands,\n",
    "erased the final wisps of pain\n",
    "with the music of rubber bands.\n",
    "And now I hear your master sing,\n",
    "you kneel for him to come.\n",
    "His body is a golden string\n",
    "that your body is hanging from.\n",
    "His body is a golden string,\n",
    "my body has grown numb.\n",
    "Oh now you hear your master sing,\n",
    "your shirt is all undone.\n",
    "And will you kneel beside this bed\n",
    "that we polished so long ago,\n",
    "before your master chose instead\n",
    "to make my bed of snow?\n",
    "Your eyes are wild and your knuckles are red\n",
    "and you're speaking far too low.\n",
    "No I can't make out what your master said\n",
    "before he made you go.\n",
    "Then I think you're playing far too rough\n",
    "for a lady who's been to the moon;\n",
    "I've lain by this window long enough\n",
    "to get used to an empty room.\n",
    "And your love is some dust in an old man's cough\n",
    "who is tapping his foot to a tune,\n",
    "and your thighs are a ruin, you want too much,\n",
    "let's say you came back some time too soon.\n",
    "I loved your master perfectly\n",
    "I taught him all that he knew.\n",
    "He was starving in some deep mystery\n",
    "like a man who is sure what is true.\n",
    "And I sent you to him with my guarantee\n",
    "I could teach him something new,\n",
    "and I taught him how you would long for me\n",
    "no matter what he said no matter what you'd do.\n",
    "I believe that you heard your master sing\n",
    "while I was sick in bed,\n",
    "I'm sure that he told you everything\n",
    "I must keep locked away in my head.\n",
    "Your master took you travelling,\n",
    "well at least that's what you said,\n",
    "And now do you come back to bring\n",
    "your prisoner wine and bread?'''\n",
    "transform_it = text_to_dict(\"Master Song\",text4,True)\n",
    "all_texts.append(transform_it)"
   ]
  },
  {
   "cell_type": "markdown",
   "metadata": {},
   "source": [
    "Run the two cells below to confirm that first, you only have five texts in the all_texts list, and next, look at the all_texts list to see the dictionary inside it. "
   ]
  },
  {
   "cell_type": "code",
   "execution_count": 492,
   "metadata": {},
   "outputs": [
    {
     "data": {
      "text/plain": [
       "5"
      ]
     },
     "execution_count": 492,
     "metadata": {},
     "output_type": "execute_result"
    }
   ],
   "source": [
    "len(all_texts)"
   ]
  },
  {
   "cell_type": "code",
   "execution_count": 494,
   "metadata": {},
   "outputs": [
    {
     "data": {
      "text/plain": [
       "'I lit a thin green candle, to make you jealous of me.'"
      ]
     },
     "execution_count": 494,
     "metadata": {},
     "output_type": "execute_result"
    }
   ],
   "source": [
    "all_texts[3]['lines'][0]"
   ]
  },
  {
   "cell_type": "markdown",
   "metadata": {},
   "source": [
    "In the cell below, loop through all_texts and print out the title of each text. (This is the only code you need to write for Part One.)"
   ]
  },
  {
   "cell_type": "code",
   "execution_count": 495,
   "metadata": {},
   "outputs": [
    {
     "name": "stdout",
     "output_type": "stream",
     "text": [
      "Suzanne\n",
      "So Long Marianne\n",
      "Hey, That's No Way To Say Goodbye\n",
      "One Of Us Cannot Be Wrong\n",
      "Master Song\n"
     ]
    }
   ],
   "source": [
    "for text in all_texts: \n",
    "    print(text[\"title\"])"
   ]
  },
  {
   "cell_type": "markdown",
   "metadata": {},
   "source": [
    "## Part Two:  searching within lists and dictionaries\n",
    "In this part, we will be searching through each text and printing out a desired result. The searches, including loops and printing should all be defined in the function. The second cell should just have a function call that executes the function. I have written an example function and call for the first search. For each function that you write you should copy the function from the previous question and modify it so what does what I ask for.\n",
    "\n",
    "For the first six functions, there are no parameters passed to the functions--the calls will just execute the function. Go step-by-step and take your time."
   ]
  },
  {
   "cell_type": "code",
   "execution_count": 496,
   "metadata": {},
   "outputs": [],
   "source": [
    "def get_lengths():\n",
    "    for text in all_texts:\n",
    "        print(text['title'])\n",
    "        print(len(text['text_as_string']))\n",
    "        print(\"------------\")"
   ]
  },
  {
   "cell_type": "code",
   "execution_count": 497,
   "metadata": {},
   "outputs": [
    {
     "name": "stdout",
     "output_type": "stream",
     "text": [
      "Suzanne\n",
      "1663\n",
      "------------\n",
      "So Long Marianne\n",
      "1269\n",
      "------------\n",
      "Hey, That's No Way To Say Goodbye\n",
      "1035\n",
      "------------\n",
      "One Of Us Cannot Be Wrong\n",
      "1222\n",
      "------------\n",
      "Master Song\n",
      "2593\n",
      "------------\n"
     ]
    }
   ],
   "source": [
    "get_lengths()"
   ]
  },
  {
   "cell_type": "markdown",
   "metadata": {},
   "source": [
    "Question 1\n",
    "Now write a function that gets the **line count for each poem** (or sentence count for each piece of prose). This function is going to be very similar to the last one. Instead of accessing the whole text via text['text_as_string'] which is a string, you need to access the list of lines/sentences and get the length of that list. Everything else should be the same."
   ]
  },
  {
   "cell_type": "code",
   "execution_count": 498,
   "metadata": {},
   "outputs": [],
   "source": [
    "def get_line_count():\n",
    "    for text in all_texts:\n",
    "        print(text['title'])\n",
    "        print(len(text['lines']))\n",
    "        print(\"------------\")"
   ]
  },
  {
   "cell_type": "code",
   "execution_count": 499,
   "metadata": {},
   "outputs": [
    {
     "name": "stdout",
     "output_type": "stream",
     "text": [
      "Suzanne\n",
      "29\n",
      "------------\n",
      "So Long Marianne\n",
      "31\n",
      "------------\n",
      "Hey, That's No Way To Say Goodbye\n",
      "21\n",
      "------------\n",
      "One Of Us Cannot Be Wrong\n",
      "30\n",
      "------------\n",
      "Master Song\n",
      "72\n",
      "------------\n"
     ]
    }
   ],
   "source": [
    "get_line_count()"
   ]
  },
  {
   "cell_type": "markdown",
   "metadata": {},
   "source": [
    "Question 2\n",
    "Now write a function that prints out **one random line or sentence from each text**. Again, this function will look much the same as the last ones, but instead of getting numbers you need to get actual lines. I have included the necessary import and an example of how to get random integers. Basically, for each text you need to get one element from the list of lines/ sentences with a random number between 0 and the length of the list."
   ]
  },
  {
   "cell_type": "code",
   "execution_count": 500,
   "metadata": {},
   "outputs": [],
   "source": [
    "\n",
    "from random import randint\n",
    "#Write your function here name it show_random_lines()\n",
    "\n",
    "#This should be inside the inner loop \n",
    "#so you get a fresh random number for each text\n",
    "#And it should not be from 0 to 9, but 0 to what?\n",
    "#Keep in mind that the range (0,9) gives you any number \n",
    "#from 0 to 9 including both 0 and 9.\n",
    "\n",
    "random_num = randint(0, 9)\n",
    "\n",
    "def show_random_lines():\n",
    "    for text in all_texts:\n",
    "        linecount = len(text['lines'])\n",
    "        random_num = randint(0, linecount)\n",
    "        print(text['title'])\n",
    "        print(text['lines'][random_num])\n",
    "        print(\"------------\")\n"
   ]
  },
  {
   "cell_type": "code",
   "execution_count": 501,
   "metadata": {},
   "outputs": [
    {
     "name": "stdout",
     "output_type": "stream",
     "text": [
      "Suzanne\n",
      "And you want to travel with him, and you want to travel blind\n",
      "------------\n",
      "So Long Marianne\n",
      "Oh so long, Marianne, it's time that we began ...\n",
      "------------\n",
      "Hey, That's No Way To Say Goodbye\n",
      "I'm not looking for another as I wander in my time,\n",
      "------------\n",
      "One Of Us Cannot Be Wrong\n",
      "he'd recently taken of you:\n",
      "------------\n",
      "Master Song\n",
      "Your eyes are wild and your knuckles are red\n",
      "------------\n"
     ]
    }
   ],
   "source": [
    "show_random_lines()"
   ]
  },
  {
   "cell_type": "markdown",
   "metadata": {},
   "source": [
    "Question 3\n",
    "This is a little bit different--instead of printing out something from each text, please **print the entire text of the longest text**. Remember in the first function, I printed out the length of each text. Well, you need to test for the longest text as you loop through and when you're done looping through, print out the one that is longest.\n",
    "\n",
    "**Major hints!**: To do this you will need two **tracking variables** set before the loop runs: A numerical one that tracks the longest length (the number), and string variable remembers the actual text that has that length.\n",
    "\n",
    "Like this: longest_length = 0 and longest_text = \"\"\n",
    "\n",
    "When you loop through, you need to test if each text was longer than the last one, and if it is longer--you update longest_length and longest_text to reflect the highest length, and the actual text. When the loop is over you then print out that longest_text string."
   ]
  },
  {
   "cell_type": "code",
   "execution_count": 502,
   "metadata": {},
   "outputs": [],
   "source": [
    "longest_length = 0\n",
    "longest_text = \"\"\n",
    "\n",
    "def longest_text():\n",
    "    for text in all_texts:\n",
    "        length = len(text['lines'])\n",
    "        if length > longest_length:\n",
    "            longest_text = text['text_as_string']\n",
    "        else: \n",
    "            pass \n",
    "    print(text['title'])\n",
    "    print(longest_text)\n",
    "    print(\"------------\")"
   ]
  },
  {
   "cell_type": "code",
   "execution_count": 503,
   "metadata": {},
   "outputs": [
    {
     "name": "stdout",
     "output_type": "stream",
     "text": [
      "Master Song\n",
      "I believe that you heard your master sing\n",
      "when I was sick in bed.\n",
      "I suppose that he told you everything\n",
      "that I keep locked away in my head.\n",
      "Your master took you travelling,\n",
      "well at least that's what you said.\n",
      "And now do you come back to bring\n",
      "your prisoner wine and bread?\n",
      "You met him at some temple, where\n",
      "they take your clothes at the door.\n",
      "He was just a numberless man in a chair\n",
      "who'd just come back from the war.\n",
      "And you wrap up his tired face in your hair\n",
      "and he hands you the apple core.\n",
      "Then he touches your lips now so suddenly bare\n",
      "of all the kisses we put on some time before.\n",
      "And he gave you a German Shepherd to walk\n",
      "with a collar of leather and nails,\n",
      "and he never once made you explain or talk\n",
      "about all of the little details,\n",
      "such as who had a word and who had a rock,\n",
      "and who had you through the mails.\n",
      "Now your love is a secret all over the block,\n",
      "and it never stops not even when your master fails.\n",
      "And he took you up in his aeroplane,\n",
      "which he flew without any hands,\n",
      "and you cruised above the ribbons of rain\n",
      "that drove the crowd from the stands.\n",
      "Then he killed the lights in a lonely Lane\n",
      "and, an ape with angel glands,\n",
      "erased the final wisps of pain\n",
      "with the music of rubber bands.\n",
      "And now I hear your master sing,\n",
      "you kneel for him to come.\n",
      "His body is a golden string\n",
      "that your body is hanging from.\n",
      "His body is a golden string,\n",
      "my body has grown numb.\n",
      "Oh now you hear your master sing,\n",
      "your shirt is all undone.\n",
      "And will you kneel beside this bed\n",
      "that we polished so long ago,\n",
      "before your master chose instead\n",
      "to make my bed of snow?\n",
      "Your eyes are wild and your knuckles are red\n",
      "and you're speaking far too low.\n",
      "No I can't make out what your master said\n",
      "before he made you go.\n",
      "Then I think you're playing far too rough\n",
      "for a lady who's been to the moon;\n",
      "I've lain by this window long enough\n",
      "to get used to an empty room.\n",
      "And your love is some dust in an old man's cough\n",
      "who is tapping his foot to a tune,\n",
      "and your thighs are a ruin, you want too much,\n",
      "let's say you came back some time too soon.\n",
      "I loved your master perfectly\n",
      "I taught him all that he knew.\n",
      "He was starving in some deep mystery\n",
      "like a man who is sure what is true.\n",
      "And I sent you to him with my guarantee\n",
      "I could teach him something new,\n",
      "and I taught him how you would long for me\n",
      "no matter what he said no matter what you'd do.\n",
      "I believe that you heard your master sing\n",
      "while I was sick in bed,\n",
      "I'm sure that he told you everything\n",
      "I must keep locked away in my head.\n",
      "Your master took you travelling,\n",
      "well at least that's what you said,\n",
      "And now do you come back to bring\n",
      "your prisoner wine and bread?\n",
      "------------\n"
     ]
    }
   ],
   "source": [
    "longest_text()"
   ]
  },
  {
   "cell_type": "markdown",
   "metadata": {},
   "source": [
    "Question 4\n",
    "This is kind of a combination of the first two functions--write a function that gets the **average line/sentence length for each text**."
   ]
  },
  {
   "cell_type": "code",
   "execution_count": 504,
   "metadata": {},
   "outputs": [],
   "source": [
    "def average_line_length():\n",
    "    for text in all_texts:\n",
    "        average = len(text['text_as_string'])/len(text['lines'])\n",
    "        print(text['title'])\n",
    "        print(average)\n",
    "        print(\"------------\")"
   ]
  },
  {
   "cell_type": "code",
   "execution_count": 505,
   "metadata": {},
   "outputs": [
    {
     "name": "stdout",
     "output_type": "stream",
     "text": [
      "Suzanne\n",
      "57.3448275862069\n",
      "------------\n",
      "So Long Marianne\n",
      "40.935483870967744\n",
      "------------\n",
      "Hey, That's No Way To Say Goodbye\n",
      "49.285714285714285\n",
      "------------\n",
      "One Of Us Cannot Be Wrong\n",
      "40.733333333333334\n",
      "------------\n",
      "Master Song\n",
      "36.013888888888886\n",
      "------------\n"
     ]
    }
   ],
   "source": [
    "average_line_length()"
   ]
  },
  {
   "cell_type": "markdown",
   "metadata": {},
   "source": [
    "Question 5\n",
    "**Print the longest line/sentence in each text**. \n",
    "This is similar to question 3--but your two tracking variables (longest_length and longest_line) need to be placed right before the inside loop--and then you print the lines each time the inside loop ends."
   ]
  },
  {
   "cell_type": "code",
   "execution_count": 506,
   "metadata": {},
   "outputs": [],
   "source": [
    "def longest_line_in_each():\n",
    "    for text in all_texts:\n",
    "        longest_length = 0\n",
    "        longest_text = \"\"\n",
    "        line_lst = text['lines']\n",
    "        for line in line_lst:\n",
    "            line_length = len(line)\n",
    "            if line_length > longest_length: \n",
    "                longest_length = line_length\n",
    "                longest_text = line\n",
    "            else: \n",
    "                pass\n",
    "        print(text['title'])\n",
    "        print(longest_text)\n",
    "        print(\"------------\")"
   ]
  },
  {
   "cell_type": "code",
   "execution_count": 507,
   "metadata": {},
   "outputs": [
    {
     "name": "stdout",
     "output_type": "stream",
     "text": [
      "Suzanne\n",
      "And you know that she's half-crazy but that's why you want to be there\n",
      "------------\n",
      "So Long Marianne\n",
      "to laugh and cry and cry and laugh about it all again.\n",
      "------------\n",
      "Hey, That's No Way To Say Goodbye\n",
      "but let's not talk of love or chains and things we can't untie,\n",
      "------------\n",
      "One Of Us Cannot Be Wrong\n",
      "I showed my heart to the doctor: he said I just have to quit.\n",
      "------------\n",
      "Master Song\n",
      "and it never stops not even when your master fails.\n",
      "------------\n"
     ]
    }
   ],
   "source": [
    "longest_line_in_each()"
   ]
  },
  {
   "cell_type": "markdown",
   "metadata": {},
   "source": [
    "Question 6\n",
    "**Print the shortest single line/sentence out of all of the texts that is greater than zero**\n",
    "This is the tricky-ish: You need to place the tracking variables outside the loop (like question 4, but the loop through all of the lines, test for the shortest one (that is greater than 0)."
   ]
  },
  {
   "cell_type": "code",
   "execution_count": 508,
   "metadata": {},
   "outputs": [],
   "source": [
    "def shortest_of_all_lines():\n",
    "    for text in all_texts:\n",
    "        line_lst = text['lines']\n",
    "        shortest_line = 1000\n",
    "        shortest_text = \"\"\n",
    "        for line in line_lst:\n",
    "            line_length = len(line)\n",
    "            if 1 < line_length < shortest_line: \n",
    "                shortest_line = line_length \n",
    "                shortest_text = line\n",
    "    print(\"The shortest line is:\",shortest_text)"
   ]
  },
  {
   "cell_type": "code",
   "execution_count": 509,
   "metadata": {},
   "outputs": [
    {
     "name": "stdout",
     "output_type": "stream",
     "text": [
      "The shortest line is: before he made you go.\n"
     ]
    }
   ],
   "source": [
    "shortest_of_all_lines()"
   ]
  },
  {
   "cell_type": "markdown",
   "metadata": {},
   "source": [
    "## searching with regular expressions\n",
    "In the functions below you will search all the texts using regular expressions. The first few of these functions should not be too challenging--you just need to adjust the regular expression inside the function. At points it gets a little more complex as you have to control the looping through the lists and dictionaries."
   ]
  },
  {
   "cell_type": "code",
   "execution_count": 510,
   "metadata": {},
   "outputs": [],
   "source": [
    "def get_this_word(word):\n",
    "    my_regex = r\"\\b\" + word + r\"\\b\"\n",
    "    for text in all_texts:\n",
    "        result = [line for line in text['lines'] if re.search(my_regex, line, re.IGNORECASE)]\n",
    "        if len(result) > 0:\n",
    "            print(text['title'])\n",
    "            [print(line) for line in result]\n",
    "            print(\"------------\")\n",
    "            "
   ]
  },
  {
   "cell_type": "code",
   "execution_count": 511,
   "metadata": {},
   "outputs": [
    {
     "name": "stdout",
     "output_type": "stream",
     "text": [
      "Suzanne\n",
      "There are heroes in the seaweed, there are children in the morning\n",
      "------------\n"
     ]
    }
   ],
   "source": [
    "get_this_word('seaweed')"
   ]
  },
  {
   "cell_type": "markdown",
   "metadata": {},
   "source": [
    "Question 7\n",
    "Print out the lines that **start** with the word entered.  You just need copy the function above and then adjust the regular expression a bit."
   ]
  },
  {
   "cell_type": "code",
   "execution_count": 512,
   "metadata": {},
   "outputs": [],
   "source": [
    "def line_starts_with(word):\n",
    "    my_regex = r\"^\\b\" + word + r\"\\b\"\n",
    "    for text in all_texts:\n",
    "        result = [line for line in text['lines'] if re.search(my_regex, line, re.IGNORECASE)]\n",
    "        if len(result) > 0:\n",
    "            print(text['title'])\n",
    "            [print(line) for line in result]\n",
    "            print(\"------------\")"
   ]
  },
  {
   "cell_type": "code",
   "execution_count": 513,
   "metadata": {},
   "outputs": [
    {
     "name": "stdout",
     "output_type": "stream",
     "text": [
      "So Long Marianne\n",
      "Your letters they all say that you're beside me now.\n",
      "------------\n",
      "Hey, That's No Way To Say Goodbye\n",
      "your hair upon the pillow like a sleepy golden storm,\n",
      "your eyes are soft with sorrow,\n",
      "your eyes are soft with sorrow,\n",
      "your hair upon the pillow like a sleepy golden storm,\n",
      "your eyes are soft with sorrow,\n",
      "------------\n",
      "Master Song\n",
      "Your master took you travelling,\n",
      "your prisoner wine and bread?\n",
      "your shirt is all undone.\n",
      "Your eyes are wild and your knuckles are red\n",
      "Your master took you travelling,\n",
      "your prisoner wine and bread?\n",
      "------------\n"
     ]
    }
   ],
   "source": [
    "line_starts_with('your')"
   ]
  },
  {
   "cell_type": "markdown",
   "metadata": {},
   "source": [
    "Question 8\n",
    "Print out the lines that **end** with the word entered.  Again you just need to adjust the regular expression here."
   ]
  },
  {
   "cell_type": "code",
   "execution_count": 514,
   "metadata": {},
   "outputs": [],
   "source": [
    "def line_ends_with(word):\n",
    "    #I've added \\s because some lines end with \"...\"\n",
    "    my_regex = r\"\\b\" + word + r\"\\s*\\W*$\"\n",
    "    for text in all_texts:\n",
    "        result = [line for line in text['lines'] if re.search(my_regex, line, re.IGNORECASE)]\n",
    "        if len(result) > 0:\n",
    "            print(text['title'])\n",
    "            [print(line) for line in result]\n",
    "            print(\"------------\")"
   ]
  },
  {
   "cell_type": "code",
   "execution_count": 515,
   "metadata": {},
   "outputs": [
    {
     "name": "stdout",
     "output_type": "stream",
     "text": [
      "Master Song\n",
      "I believe that you heard your master sing\n",
      "And now I hear your master sing,\n",
      "Oh now you hear your master sing,\n",
      "I believe that you heard your master sing\n",
      "------------\n"
     ]
    }
   ],
   "source": [
    "line_ends_with('sing')"
   ]
  },
  {
   "cell_type": "markdown",
   "metadata": {},
   "source": [
    "Question 9\n",
    "Print out **how many times the word was found in each text.** In this case, instead of the list comprehension, you want to run a re.findall() on the string of the text (not the list) and then count the number of elements in the list of results.\n",
    "\n",
    "Hint: use the original function at the beginning of this section, and make the proper adjustments to the variable \"result\""
   ]
  },
  {
   "cell_type": "code",
   "execution_count": 516,
   "metadata": {},
   "outputs": [],
   "source": [
    "def how_many_times(word):\n",
    "    my_regex = r\"\\b\" + word + r\"\\b\"\n",
    "    for text in all_texts:\n",
    "        result = [line for line in text['lines'] if re.findall(my_regex, line, re.IGNORECASE)]\n",
    "        if len(result) > 0:\n",
    "            print(text['title'])\n",
    "            print(len(result))\n",
    "            print(\"------------\")\n",
    "            "
   ]
  },
  {
   "cell_type": "code",
   "execution_count": 517,
   "metadata": {},
   "outputs": [
    {
     "name": "stdout",
     "output_type": "stream",
     "text": [
      "Suzanne\n",
      "12\n",
      "------------\n",
      "So Long Marianne\n",
      "6\n",
      "------------\n",
      "Hey, That's No Way To Say Goodbye\n",
      "6\n",
      "------------\n",
      "One Of Us Cannot Be Wrong\n",
      "14\n",
      "------------\n",
      "Master Song\n",
      "13\n",
      "------------\n"
     ]
    }
   ],
   "source": [
    "how_many_times('the')"
   ]
  },
  {
   "cell_type": "markdown",
   "metadata": {},
   "source": [
    "Question 10\n",
    "Print out **the text that has the highest occurrence of the word** you searched for. This is similar to the last function, but here you need tracking variables like you had in Question 3.\n"
   ]
  },
  {
   "cell_type": "code",
   "execution_count": 518,
   "metadata": {},
   "outputs": [],
   "source": [
    "def text_with_most_occurance_of(word):\n",
    "    my_regex = r\"\\b\" + word + r\"\\b\"\n",
    "    highest_occurance = 0 \n",
    "    for text in all_texts:\n",
    "        result = [line for line in text['lines'] if re.findall(my_regex, line, re.IGNORECASE)]\n",
    "        if len(result) > highest_occurance:\n",
    "            highest_occurance = len(result)\n",
    "    print(text['title'])\n",
    "    print(highest_occurance)\n",
    "    print(\"------------\")"
   ]
  },
  {
   "cell_type": "code",
   "execution_count": 519,
   "metadata": {},
   "outputs": [
    {
     "name": "stdout",
     "output_type": "stream",
     "text": [
      "Master Song\n",
      "14\n",
      "------------\n"
     ]
    }
   ],
   "source": [
    "text_with_most_occurance_of('the')"
   ]
  },
  {
   "cell_type": "markdown",
   "metadata": {},
   "source": [
    "Question 11\n",
    "Print out **lines containing words of the length asked**. We are sort of back to basics here, you just need to modify the regular expression of the first function (get_this_word(word)) so that it can take a number parameter for the length of characters in a word."
   ]
  },
  {
   "cell_type": "code",
   "execution_count": 520,
   "metadata": {},
   "outputs": [],
   "source": [
    "def lines_with_words_this_length(word):\n",
    "    my_regex = r\"\\b\\w{\" + word + r\"}\\b\"\n",
    "    for text in all_texts:\n",
    "        result = [line for line in text['lines'] if re.search(my_regex, line, re.IGNORECASE)]\n",
    "        if len(result) > 0:\n",
    "            print(text['title'])\n",
    "            [print(line) for line in result]\n",
    "            print(\"------------\")"
   ]
  },
  {
   "cell_type": "code",
   "execution_count": 521,
   "metadata": {},
   "outputs": [
    {
     "name": "stdout",
     "output_type": "stream",
     "text": [
      "Suzanne\n",
      "Then she gets you on her wavelength\n",
      "------------\n",
      "Master Song\n",
      "I suppose that he told you everything\n",
      "Your master took you travelling,\n",
      "He was just a numberless man in a chair\n",
      "I'm sure that he told you everything\n",
      "Your master took you travelling,\n",
      "------------\n"
     ]
    }
   ],
   "source": [
    "lines_with_words_this_length('10')"
   ]
  },
  {
   "cell_type": "markdown",
   "metadata": {
    "collapsed": true
   },
   "source": [
    "**Final question:** in this cell, describe two functions that you would like to write, not ones that you're able to write, but ones you think would be useful or interesting or fun, or might bring greater insight into a corpus of text. If you feel like trying to write it, go-ahead!"
   ]
  },
  {
   "cell_type": "code",
   "execution_count": null,
   "metadata": {},
   "outputs": [],
   "source": [
    "# A function to group lines that rhyme (e.g. lines that end in \"ing\")\n",
    "\n",
    "# A function to list lines which are repeated within each text / or isolate unique lines in each text "
   ]
  },
  {
   "cell_type": "markdown",
   "metadata": {
    "collapsed": true
   },
   "source": [
    "**Bonus question:** Write a function that counts word frequency: that is, it returns a dictionary with each unique word and its count, sorted by the most frequent. Note, this is highly stack-overflowable -- Python has some built in ways of doing this. If you're doing this, you might as well try to do it on your own. But it's up to you!"
   ]
  },
  {
   "cell_type": "code",
   "execution_count": null,
   "metadata": {},
   "outputs": [],
   "source": []
  }
 ],
 "metadata": {
  "kernelspec": {
   "display_name": "Python 3.11.0rc2 64-bit ('3.11.0rc2')",
   "language": "python",
   "name": "python3"
  },
  "language_info": {
   "codemirror_mode": {
    "name": "ipython",
    "version": 3
   },
   "file_extension": ".py",
   "mimetype": "text/x-python",
   "name": "python",
   "nbconvert_exporter": "python",
   "pygments_lexer": "ipython3",
   "version": "3.11.0rc2"
  },
  "vscode": {
   "interpreter": {
    "hash": "fe0c711aca5bf7c6cedcd19352a1a05a1084bba66d33e75f0bd7fcc1c5e9be77"
   }
  }
 },
 "nbformat": 4,
 "nbformat_minor": 2
}
